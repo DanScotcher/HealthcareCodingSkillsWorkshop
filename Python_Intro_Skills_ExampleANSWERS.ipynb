{
 "cells": [
  {
   "cell_type": "markdown",
   "id": "a1c14064-dcba-46be-bc81-767d05de8ecd",
   "metadata": {
    "editable": true,
    "slideshow": {
     "slide_type": ""
    },
    "tags": []
   },
   "source": [
    "# Introduction - Exemplar answers\n",
    "\n",
    "This notebook provides example answers for the coding skills workshop. You can edit this further to explore the Python language in more detail. Run the code in each cell to see the outputs."
   ]
  },
  {
   "cell_type": "markdown",
   "id": "2595d5a9-15c3-474e-919f-26ab08f8ca8c",
   "metadata": {
    "editable": true,
    "slideshow": {
     "slide_type": ""
    },
    "tags": []
   },
   "source": [
    "## Task 1\n",
    "Use the print() function to display the text \"Hello, world\" in the console (https://en.wikipedia.org/wiki/%22Hello,_World!%22_program)"
   ]
  },
  {
   "cell_type": "code",
   "execution_count": null,
   "id": "5d386f4f-5ca2-461c-8b11-df40390759c6",
   "metadata": {},
   "outputs": [],
   "source": [
    "print(\"hello, world\")"
   ]
  },
  {
   "cell_type": "markdown",
   "id": "c8d0dac5-d15b-4e08-b57e-ced582f0f2d0",
   "metadata": {},
   "source": [
    "## Task 2\n",
    "- Assign two different numbers to new variables in the Python namespace [i.e., store two numbers on the computer]\n",
    "- Apply mathematical operators to these numbers, assign the results to new variables, and print the results [i.e., add the numbers together, and/or subtract, multiply, divide, etc]\n",
    "\n",
    "*Note - the ^ symbol does not take power in Python. Instead ** should be used*"
   ]
  },
  {
   "cell_type": "code",
   "execution_count": null,
   "id": "8d6ed551-00d0-4850-83be-92f649ab65ee",
   "metadata": {},
   "outputs": [],
   "source": [
    "a = 5\n",
    "b = 17\n",
    "c = a + b\n",
    "print(\"a+b =\",c)\n",
    "d = a/b\n",
    "print(\"a/b =\",d)\n",
    "f = b**a\n",
    "print(\"a**b =\",f)"
   ]
  },
  {
   "cell_type": "markdown",
   "id": "f8d1e3c5-23f6-4b6a-ab91-b64b294815b6",
   "metadata": {},
   "source": [
    "# Task 3\n",
    "- Assign a new variable \"**NewVar**\" in the Python namespace, containing either a number, or a string (i.e., text)\n",
    "- Create a short program that will take the following actions:\n",
    "    1. If the variable is text, print \"**Variable is text: <<->>**\", *where <<->> is your string*\n",
    "    2. If the variable is a positive number (inc zero), then print \"**Variable is numeric: <<->>**\", *where <<->> is your number*\n",
    "    3. If the variable is a negative number, then print \"**Variable is negative, try again with a positive attitude**\"\n",
    "- Run the program with different inputs for **NewVar**\n",
    "\n",
    "*Note - Python uses indentation (typically 4 spaces) to indicate a block of code. (https://www.w3schools.com/python/python_syntax.asp)*  "
   ]
  },
  {
   "cell_type": "code",
   "execution_count": null,
   "id": "615c0cd1-8b6d-4117-8288-538f21c2ff03",
   "metadata": {},
   "outputs": [],
   "source": [
    "# This line is a comment and will not run as part of the algorithm\n",
    "# Comments are helpful to annotate the code and provide hints/ reminders about the purpose of the code\n",
    "\n",
    "# These are examples of inputs for the NewVar variable\n",
    "# NewVar = 3\n",
    "# NewVar = -10\n",
    "# NewVar = \"SHS Coding Skills Workshop\"\n",
    "\n",
    "# Check if NewVar is a string\n",
    "if isinstance(NewVar,str):\n",
    "    print(\"Variable is a string: \", NewVar)\n",
    "\n",
    "# Check if NewVar is a number\n",
    "elif isinstance(NewVar, (int, float)):\n",
    "    # Check if NewVar positive or negative\n",
    "    if NewVar >= 0:\n",
    "        print(\"Variable is a positive number: \",NewVar)\n",
    "    else:\n",
    "        print(\"Variable is negative, try again with a positive attitude\")\n",
    "\n",
    "# It is good practice for the algorithm to print useful information when unexpected behaviour occurs.\n",
    "# This can help with problem-solving and de-bugging\n",
    "else:\n",
    "    print(\"NewVar is neither a string nor a number.\")\n"
   ]
  },
  {
   "cell_type": "markdown",
   "id": "f54e2eaf-efd4-4527-8c1d-fa0b4bacd9ea",
   "metadata": {},
   "source": [
    "# Task 4\n",
    "Create a function that uses the same algorithm as Task 3 in one cell, and in the next cell, run the function with different inputs (numbers or string)\n",
    "\n",
    "- a function is defined using the **def** keyword, followed by a function name and parentheses (brackets) containing the input arguments for the function\n",
    "https://www.w3schools.com/python/python_functions.asp\n",
    "- use \"**return**\" keyword to send data back to the code that called the function \n",
    "- you can use \"**f** to specify an f-string for easier formatting of the output to be returned (https://www.w3schools.com/python/python_string_formatting.asp)\n"
   ]
  },
  {
   "cell_type": "code",
   "execution_count": null,
   "id": "add5e9f3-948a-441a-ad30-943810ce09b1",
   "metadata": {},
   "outputs": [],
   "source": [
    "# This code defines a function called \"analyse_New_Variable\"\n",
    "def analyse_New_Variable(NewVar):\n",
    "    if isinstance(NewVar,str):\n",
    "        return f\"Variable is a string: '{NewVar}'\"\n",
    "    \n",
    "    # Check if NewVar is a number\n",
    "    elif isinstance(NewVar, (int, float)):\n",
    "        # Check if NewVar positive or negative\n",
    "        if NewVar >= 0:\n",
    "            return f\"Variable is a positive number: {NewVar}\"\n",
    "        else:\n",
    "            return f\"Variable is negative, try again with a positive attitude\"\n",
    "    \n",
    "    # It is good practice for the algorithm to print useful information when unexpected behaviour occurs.\n",
    "    # This can help with problem-solving and de-bugging\n",
    "    else:\n",
    "        return \"NewVar is neither a string nor a number.\""
   ]
  },
  {
   "cell_type": "code",
   "execution_count": null,
   "id": "47808429-1145-4e95-8e94-1843b0abfa1c",
   "metadata": {},
   "outputs": [],
   "source": [
    "# This code can either directly print the output from the function, or store the output in a new variable\n",
    "\n",
    "print(analyse_New_Variable(\"What a great function!\"))\n",
    "\n",
    "MyOutput = analyse_New_Variable(-2.3)\n",
    "print(MyOutput)"
   ]
  },
  {
   "attachments": {},
   "cell_type": "markdown",
   "id": "f8023b3c-210a-43ee-b2bf-c01d747ae4cb",
   "metadata": {},
   "source": [
    "# Task 5\n",
    "\n",
    "The cells below contain example code using the well-known Iris Flower Dataset to show how programming can be used to visualise data and  perform statistical analysis\n",
    "(https://en.wikipedia.org/wiki/Iris_flower_data_set)\n",
    "\n",
    "Code was taken from SciKit-Learn\n",
    "(https://scikit-learn.org/stable/auto_examples/decomposition/plot_pca_iris.html#sphx-glr-auto-examples-decomposition-plot-pca-iris-py)\n",
    "\n",
    "- Run the code, and explore the generated figures and the code.\n",
    "- Can you identify elements of the second figure (e.g., axis labels) that are specified in specific lines of code?\n",
    "- With a few additional lines of code, can you change the colours (and other properties) of the first figure?\n",
    "\n",
    "*Hint - copy and paste the original code into a new cell in your notebook*"
   ]
  },
  {
   "cell_type": "code",
   "execution_count": null,
   "id": "39d03668-172d-481c-8753-f443b2a4e955",
   "metadata": {},
   "outputs": [],
   "source": [
    "from sklearn.datasets import load_iris\n",
    "\n",
    "iris = load_iris(as_frame=True)\n",
    "print(iris.keys())"
   ]
  },
  {
   "cell_type": "code",
   "execution_count": null,
   "id": "392d56ab-4f2f-412b-b2f0-596d20a3e203",
   "metadata": {},
   "outputs": [],
   "source": [
    "import seaborn as sns\n",
    "\n",
    "# Rename classes using the iris target names\n",
    "iris.frame[\"target\"] = iris.target_names[iris.target]\n",
    "_ = sns.pairplot(iris.frame, hue=\"target\")"
   ]
  },
  {
   "cell_type": "code",
   "execution_count": null,
   "id": "fa2b07bc-6b47-4471-b2fe-9e0a273a6ed3",
   "metadata": {},
   "outputs": [],
   "source": [
    "import matplotlib.pyplot as plt\n",
    "\n",
    "# unused but required import for doing 3d projections with matplotlib < 3.2\n",
    "import mpl_toolkits.mplot3d  # noqa: F401\n",
    "\n",
    "from sklearn.decomposition import PCA\n",
    "\n",
    "fig = plt.figure(1, figsize=(8, 6))\n",
    "ax = fig.add_subplot(111, projection=\"3d\", elev=-150, azim=110)\n",
    "\n",
    "X_reduced = PCA(n_components=3).fit_transform(iris.data)\n",
    "scatter = ax.scatter(\n",
    "    X_reduced[:, 0],\n",
    "    X_reduced[:, 1],\n",
    "    X_reduced[:, 2],\n",
    "    c=iris.target,\n",
    "    s=40,\n",
    ")\n",
    "\n",
    "ax.set(\n",
    "    title=\"First three PCA dimensions\",\n",
    "    xlabel=\"1st Eigenvector\",\n",
    "    ylabel=\"2nd Eigenvector\",\n",
    "    zlabel=\"3rd Eigenvector\",\n",
    ")\n",
    "ax.xaxis.set_ticklabels([])\n",
    "ax.yaxis.set_ticklabels([])\n",
    "ax.zaxis.set_ticklabels([])\n",
    "\n",
    "# Add a legend\n",
    "legend1 = ax.legend(\n",
    "    scatter.legend_elements()[0],\n",
    "    iris.target_names.tolist(),\n",
    "    loc=\"upper right\",\n",
    "    title=\"Classes\",\n",
    ")\n",
    "ax.add_artist(legend1)\n",
    "\n",
    "plt.show()"
   ]
  },
  {
   "cell_type": "markdown",
   "id": "0e5944a7-0251-4441-9d3e-24b18a695f73",
   "metadata": {},
   "source": [
    "### Example of the first figure with different colours"
   ]
  },
  {
   "cell_type": "code",
   "execution_count": null,
   "id": "5136f2d1-87d8-446e-8ac3-e32ac1da93f4",
   "metadata": {},
   "outputs": [],
   "source": [
    "import seaborn as sns\n",
    "\n",
    "\n",
    "palette_map = {\n",
    "    \"setosa\": \"#462573\",      # purple\n",
    "    \"versicolor\": \"#FFEC0F\",  # yellow\n",
    "    \"virginica\": \"#30d5c8\"  # turquoise\n",
    "}\n",
    "\n",
    "\n",
    "# Rename classes using the iris target names\n",
    "iris.frame[\"target\"] = iris.target_names[iris.target]\n",
    "_ = sns.pairplot(iris.frame, hue=\"target\", palette=palette_map)"
   ]
  },
  {
   "cell_type": "markdown",
   "id": "d3c5e814-842b-4e5b-ad5a-c2df6fff4833",
   "metadata": {},
   "source": [
    "# A note on Help and Documentation\n",
    "\n",
    "You can see all the options available for a function by putting a **?** before it. See the example code below to print the help page for the seaborn pairplot function (*in code above, we renamed seaborn to sns*)\n",
    "\n",
    "- *Note - the help() function may also be used*\n",
    "\n",
    "You can also find the documentation and examples online. e.g., by searching \"seaborn pairplot\" for this function. \n",
    "\n",
    "When you are starting out, help and documentation files can be almost as difficult to understand as code itself. Try not to be put off by this. Learning how to read and use help/ documentation for functions is part of the skill of coding."
   ]
  },
  {
   "cell_type": "code",
   "execution_count": null,
   "id": "1c67ff3c-0190-4629-914d-7d91da89b006",
   "metadata": {},
   "outputs": [],
   "source": [
    "?sns.pairplot"
   ]
  }
 ],
 "metadata": {
  "kernelspec": {
   "display_name": "Python 3 (ipykernel)",
   "language": "python",
   "name": "python3"
  },
  "language_info": {
   "codemirror_mode": {
    "name": "ipython",
    "version": 3
   },
   "file_extension": ".py",
   "mimetype": "text/x-python",
   "name": "python",
   "nbconvert_exporter": "python",
   "pygments_lexer": "ipython3",
   "version": "3.12.3"
  },
  "panel-cell-order": [
   "9ef4a8fd-1c7c-43c6-b6f7-2a20ed69ec3c"
  ]
 },
 "nbformat": 4,
 "nbformat_minor": 5
}
